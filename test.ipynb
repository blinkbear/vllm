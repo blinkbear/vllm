{
 "cells": [
  {
   "cell_type": "code",
   "execution_count": 1,
   "metadata": {},
   "outputs": [],
   "source": [
    "def knapsack_01(values, weights, capacity):\n",
    "    \"\"\"\n",
    "    解决 0-1 背包问题的优化动态规划算法\n",
    "\n",
    "    :param values: 物品的价值列表\n",
    "    :param weights: 物品的重量列表\n",
    "    :param capacity: 背包的容量\n",
    "    :return: 背包能装下的最大价值\n",
    "    \"\"\"\n",
    "    n = len(values)\n",
    "    # 初始化 DP 数组\n",
    "    dp = [0] * (capacity + 1)\n",
    "    \n",
    "    # 填充 DP 数组\n",
    "    for i in range(n):\n",
    "        # 逆序遍历容量，避免覆盖上一轮的状态\n",
    "        for j in range(capacity, weights[i] - 1, -1):\n",
    "            dp[j] = max(dp[j], dp[j - weights[i]] + values[i])\n",
    "    \n",
    "    return dp[capacity]"
   ]
  },
  {
   "cell_type": "code",
   "execution_count": 7,
   "metadata": {},
   "outputs": [
    {
     "name": "stdout",
     "output_type": "stream",
     "text": [
      "测试规模: 10 个物品, 背包容量: 860\n",
      "最大重量: 100, 最大价值: 100\n",
      "最大价值: 384\n",
      "运行时间: 0.002065 秒\n",
      "--------------------------------------------------\n",
      "测试规模: 100 个物品, 背包容量: 832\n",
      "最大重量: 100, 最大价值: 100\n",
      "最大价值: 1909\n",
      "运行时间: 0.024470 秒\n",
      "--------------------------------------------------\n",
      "测试规模: 1000 个物品, 背包容量: 924\n",
      "最大重量: 100, 最大价值: 100\n",
      "最大价值: 7218\n",
      "运行时间: 0.242581 秒\n",
      "--------------------------------------------------\n"
     ]
    }
   ],
   "source": [
    "import time\n",
    "import random\n",
    "\n",
    "def knapsack_01(values, weights, capacity):\n",
    "    \"\"\"\n",
    "    解决 0-1 背包问题的优化动态规划算法\n",
    "    \"\"\"\n",
    "    n = len(values)\n",
    "    dp = [0] * (capacity + 1)\n",
    "    \n",
    "    for i in range(n):\n",
    "        for j in range(capacity, weights[i] - 1, -1):\n",
    "            dp[j] = max(dp[j], dp[j - weights[i]] + values[i])\n",
    "    \n",
    "    return dp[capacity]\n",
    "\n",
    "def generate_test_data(n, max_weight, max_value):\n",
    "    \"\"\"\n",
    "    生成随机测试数据\n",
    "    :param n: 物品数量\n",
    "    :param max_weight: 物品最大重量\n",
    "    :param max_value: 物品最大价值\n",
    "    :return: (values, weights, capacity)\n",
    "    \"\"\"\n",
    "    values = [random.randint(1, max_value) for _ in range(n)]\n",
    "    weights = [random.randint(1, max_weight) for _ in range(n)]\n",
    "    capacity = random.randint(max_weight, max_weight * 10)  # 背包容量设为最大重量的 1-2 倍\n",
    "    return values, weights, capacity\n",
    "\n",
    "def test_efficiency(n, max_weight, max_value):\n",
    "    \"\"\"\n",
    "    测试算法效率\n",
    "    :param n: 物品数量\n",
    "    :param max_weight: 物品最大重量\n",
    "    :param max_value: 物品最大价值\n",
    "    \"\"\"\n",
    "    values, weights, capacity = generate_test_data(n, max_weight, max_value)\n",
    "    \n",
    "    print(f\"测试规模: {n} 个物品, 背包容量: {capacity}\")\n",
    "    print(f\"最大重量: {max_weight}, 最大价值: {max_value}\")\n",
    "    \n",
    "    start_time = time.time()\n",
    "    max_value = knapsack_01(values, weights, capacity)\n",
    "    end_time = time.time()\n",
    "    \n",
    "    print(f\"最大价值: {max_value}\")\n",
    "    print(f\"运行时间: {end_time - start_time:.6f} 秒\")\n",
    "    print(\"-\" * 50)\n",
    "\n",
    "# 测试不同规模的数据\n",
    "test_cases = [\n",
    "    (10, 100, 100),      # 小规模\n",
    "    (100, 100, 100),     # 中等规模\n",
    "    (1000, 100, 100),    # 较大规模\n",
    "]\n",
    "\n",
    "for n, max_weight, max_value in test_cases:\n",
    "    test_efficiency(n, max_weight, max_value)"
   ]
  },
  {
   "cell_type": "code",
   "execution_count": null,
   "metadata": {},
   "outputs": [],
   "source": []
  }
 ],
 "metadata": {
  "kernelspec": {
   "display_name": "Python 3",
   "language": "python",
   "name": "python3"
  },
  "language_info": {
   "codemirror_mode": {
    "name": "ipython",
    "version": 3
   },
   "file_extension": ".py",
   "mimetype": "text/x-python",
   "name": "python",
   "nbconvert_exporter": "python",
   "pygments_lexer": "ipython3",
   "version": "3.10.12"
  }
 },
 "nbformat": 4,
 "nbformat_minor": 2
}
