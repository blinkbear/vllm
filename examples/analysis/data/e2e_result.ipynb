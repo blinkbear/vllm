{
 "cells": [
  {
   "cell_type": "code",
   "execution_count": 52,
   "metadata": {},
   "outputs": [],
   "source": [
    "import pandas as pd \n",
    "import numpy as np\n",
    "import matplotlib.pyplot as plt\n",
    "import seaborn as sns\n",
    "import json\n",
    "import os "
   ]
  },
  {
   "cell_type": "code",
   "execution_count": 79,
   "metadata": {},
   "outputs": [],
   "source": [
    "e2e_result_dir=\"e2e_result/\"\n",
    "\n",
    "# infer_result_name=\"vllm-100.0qps-Llama-2-13b-chat-hf-20240619-073917-infer-tr15.json\"\n",
    "# fcfs_result_name=\"vllm-100.0qps-Llama-2-13b-chat-hf-20240619-074516-fcfs-tr15.json\""
   ]
  },
  {
   "cell_type": "code",
   "execution_count": 84,
   "metadata": {},
   "outputs": [
    {
     "name": "stdout",
     "output_type": "stream",
     "text": [
      "vllm-100.0qps-Llama-2-13b-chat-hf-20240619-071409-fcfs-tr15.json\n",
      "vllm-100.0qps-Llama-2-13b-chat-hf-20240619-074516-fcfs-tr15.json\n",
      "vllm-100.0qps-Llama-2-13b-chat-hf-20240619-070802-infer-tr15.json\n",
      "vllm-100.0qps-Llama-2-13b-chat-hf-20240619-073917-infer-tr15.json\n"
     ]
    }
   ],
   "source": [
    "\n",
    "def merge_result(policy, qps, model_name ,tr_value, result):\n",
    "    for root, dirs, files in os.walk(e2e_result_dir):\n",
    "        for file in files:\n",
    "            if tr_value in file and model_name in file and policy in file and qps in file:\n",
    "                print(file)\n",
    "                tmp = json.load(open(os.path.join(root, file)))  # noqa: SIM115\n",
    "                for k, v in tmp.items():\n",
    "                    if k not in result:\n",
    "                        result[k] = v\n",
    "                    else:\n",
    "                        if isinstance(v, list):\n",
    "                            result[k].extend(v)\n",
    "                        elif isinstance(v, int):\n",
    "                            result[k] = (result[k] + v)/2\n",
    "                        else:\n",
    "                            continue\n",
    "    \n",
    "qps=\"100\"\n",
    "model_name=\"Llama-2-13b-chat-hf\"\n",
    "policy = [\"fcfs\", \"infer\"]\n",
    "tr=[\"tr15\"]\n",
    "fcfs_result = {}\n",
    "infer_result = {}\n",
    "for tr_value in tr:\n",
    "    for p in policy:\n",
    "        if p == \"fcfs\":\n",
    "            merge_result(p, qps, model_name, tr_value, fcfs_result)\n",
    "        elif p == \"infer\":\n",
    "            merge_result(p, qps, model_name, tr_value, infer_result)\n",
    "                        "
   ]
  },
  {
   "cell_type": "code",
   "execution_count": 85,
   "metadata": {},
   "outputs": [
    {
     "data": {
      "text/plain": [
       "'20240619-070802'"
      ]
     },
     "execution_count": 85,
     "metadata": {},
     "output_type": "execute_result"
    }
   ],
   "source": [
    "# fcfs_result[\"date\"]\n",
    "infer_result[\"date\"]"
   ]
  },
  {
   "cell_type": "code",
   "execution_count": 87,
   "metadata": {},
   "outputs": [],
   "source": [
    "fcfs_latencies=fcfs_result[\"latencies\"]\n",
    "infer_latencies=infer_result[\"latencies\"]\n",
    "df = pd.DataFrame({\"fcfs\": fcfs_latencies, \"infer\": infer_latencies})\n",
    "df_result=df.describe(percentiles=[0.5,0.95])"
   ]
  },
  {
   "cell_type": "code",
   "execution_count": 88,
   "metadata": {},
   "outputs": [
    {
     "data": {
      "text/html": [
       "<div>\n",
       "<style scoped>\n",
       "    .dataframe tbody tr th:only-of-type {\n",
       "        vertical-align: middle;\n",
       "    }\n",
       "\n",
       "    .dataframe tbody tr th {\n",
       "        vertical-align: top;\n",
       "    }\n",
       "\n",
       "    .dataframe thead th {\n",
       "        text-align: right;\n",
       "    }\n",
       "</style>\n",
       "<table border=\"1\" class=\"dataframe\">\n",
       "  <thead>\n",
       "    <tr style=\"text-align: right;\">\n",
       "      <th></th>\n",
       "      <th>fcfs</th>\n",
       "      <th>infer</th>\n",
       "    </tr>\n",
       "  </thead>\n",
       "  <tbody>\n",
       "    <tr>\n",
       "      <th>count</th>\n",
       "      <td>500.000000</td>\n",
       "      <td>500.000000</td>\n",
       "    </tr>\n",
       "    <tr>\n",
       "      <th>mean</th>\n",
       "      <td>118.126212</td>\n",
       "      <td>107.343882</td>\n",
       "    </tr>\n",
       "    <tr>\n",
       "      <th>std</th>\n",
       "      <td>74.752981</td>\n",
       "      <td>65.443799</td>\n",
       "    </tr>\n",
       "    <tr>\n",
       "      <th>min</th>\n",
       "      <td>0.840515</td>\n",
       "      <td>0.320709</td>\n",
       "    </tr>\n",
       "    <tr>\n",
       "      <th>50%</th>\n",
       "      <td>125.556115</td>\n",
       "      <td>115.774802</td>\n",
       "    </tr>\n",
       "    <tr>\n",
       "      <th>95%</th>\n",
       "      <td>237.091409</td>\n",
       "      <td>211.445680</td>\n",
       "    </tr>\n",
       "    <tr>\n",
       "      <th>max</th>\n",
       "      <td>246.024755</td>\n",
       "      <td>222.049111</td>\n",
       "    </tr>\n",
       "  </tbody>\n",
       "</table>\n",
       "</div>"
      ],
      "text/plain": [
       "             fcfs       infer\n",
       "count  500.000000  500.000000\n",
       "mean   118.126212  107.343882\n",
       "std     74.752981   65.443799\n",
       "min      0.840515    0.320709\n",
       "50%    125.556115  115.774802\n",
       "95%    237.091409  211.445680\n",
       "max    246.024755  222.049111"
      ]
     },
     "execution_count": 88,
     "metadata": {},
     "output_type": "execute_result"
    }
   ],
   "source": [
    "df_result"
   ]
  },
  {
   "cell_type": "code",
   "execution_count": 89,
   "metadata": {},
   "outputs": [
    {
     "data": {
      "image/png": "[encoded data removed]",
      "text/plain": [
       "<Figure size 600x375 with 1 Axes>"
      ]
     },
     "metadata": {},
     "output_type": "display_data"
    }
   ],
   "source": [
    "plt.figure(figsize=(4,2.5), dpi=150)\n",
    "sns.ecdfplot(data=df)\n",
    "plt.grid(alpha=0.5, linestyle=\"--\")"
   ]
  },
  {
   "cell_type": "code",
   "execution_count": null,
   "metadata": {},
   "outputs": [],
   "source": []
  }
 ],
 "metadata": {
  "kernelspec": {
   "display_name": "Python 3",
   "language": "python",
   "name": "python3"
  },
  "language_info": {
   "codemirror_mode": {
    "name": "ipython",
    "version": 3
   },
   "file_extension": ".py",
   "mimetype": "text/x-python",
   "name": "python",
   "nbconvert_exporter": "python",
   "pygments_lexer": "ipython3",
   "version": "3.10.12"
  }
 },
 "nbformat": 4,
 "nbformat_minor": 2
}
