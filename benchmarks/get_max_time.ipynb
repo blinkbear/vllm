{
 "cells": [
  {
   "cell_type": "markdown",
   "metadata": {},
   "source": []
  },
  {
   "cell_type": "code",
   "execution_count": 1,
   "metadata": {},
   "outputs": [],
   "source": [
    "import os\n",
    "import pandas as pd "
   ]
  },
  {
   "cell_type": "markdown",
   "metadata": {},
   "source": [
    "handle output time is 0.0006957054138183594\n",
    "interval time is 0.00045800209045410156\n",
    "schedule time is 0.0003833770751953125\n",
    "-------Cache swap time: 5.4836273193359375e-06s\n",
    "shape of greedy_samples_cpu: torch.Size([3]), shape of greedy_samples: torch.Size([3])\n",
    "Time to convert to list: 0.02359461784362793"
   ]
  },
  {
   "cell_type": "code",
   "execution_count": 5,
   "metadata": {},
   "outputs": [],
   "source": [
    "# read the data from the log file\n",
    "exec_time = []\n",
    "handle_output_time = []\n",
    "interval_time=[]\n",
    "schedule_time = []\n",
    "greedy_sample = []\n",
    "with open(\"api_server.log\",\"r\") as f:\n",
    "    for line in f:\n",
    "        if \"execute time\" in line:\n",
    "            # use regex to extract the execution time\n",
    "            exec_time.append(float(line.split(\":\")[-1].strip()))\n",
    "        elif \"handle output time\" in line:\n",
    "            handle_output_time.append(float(line.split(\":\")[-1].strip()))\n",
    "        elif \"interval time\" in line:\n",
    "            interval_time.append(float(line.split(\":\")[-1].strip()))\n",
    "        elif \"schedule time\" in line:\n",
    "            schedule_time.append(float(line.split(\":\")[-1].strip()))\n",
    "        elif \"greedy sample\" in line:\n",
    "            greedy_sample.append(float(line.split(\":\")[-1].strip()))\n",
    "max_length = min(len(exec_time),len(handle_output_time),len(interval_time),len(schedule_time),len(greedy_sample))\n",
    "df = pd.DataFrame({'exec_time':exec_time[:max_length],'handle_output_time':handle_output_time[:max_length],'interval_time':interval_time[:max_length],'schedule_time':schedule_time[:max_length],'greedy_sample':greedy_sample[:max_length]})"
   ]
  },
  {
   "cell_type": "code",
   "execution_count": 10,
   "metadata": {},
   "outputs": [
    {
     "data": {
      "text/plain": [
       "exec_time             17239\n",
       "handle_output_time    17239\n",
       "interval_time         17239\n",
       "schedule_time         17239\n",
       "greedy_sample         17239\n",
       "dtype: int64"
      ]
     },
     "execution_count": 10,
     "metadata": {},
     "output_type": "execute_result"
    }
   ],
   "source": [
    "df[df['schedule_time']<df['interval_time']].count()"
   ]
  },
  {
   "cell_type": "code",
   "execution_count": null,
   "metadata": {},
   "outputs": [],
   "source": []
  }
 ],
 "metadata": {
  "kernelspec": {
   "display_name": "Python 3",
   "language": "python",
   "name": "python3"
  },
  "language_info": {
   "codemirror_mode": {
    "name": "ipython",
    "version": 3
   },
   "file_extension": ".py",
   "mimetype": "text/x-python",
   "name": "python",
   "nbconvert_exporter": "python",
   "pygments_lexer": "ipython3",
   "version": "3.10.12"
  }
 },
 "nbformat": 4,
 "nbformat_minor": 2
}
